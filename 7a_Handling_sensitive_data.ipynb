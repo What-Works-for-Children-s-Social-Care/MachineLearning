{
 "cells": [
  {
   "cell_type": "code",
   "execution_count": null,
   "metadata": {},
   "outputs": [],
   "source": [
    "# Variable set-up\n",
    "\n",
    "rq = 'rq1' # Options: 'rq1', 'rq2'\n",
    "cv = 'ss' # Options: 'ts' (time series split, ignore siblings), 'ss' (stratified shuffle, ignore siblings)\n",
    "data_type = 'all' # Options: 'str' (just structured data), 'all' (structured data and list of strings)\n",
    "\n",
    "# Don't change\n",
    "file_stub_y_siblings = rq + '_' + cv + '_str' # use 'str' for all \n",
    "file_stub = rq + '_' + cv + '_' + data_type # Creates file stub for saving in the format e.g. rq1_ss_str\n"
   ]
  },
  {
   "cell_type": "code",
   "execution_count": null,
   "metadata": {},
   "outputs": [],
   "source": [
    "## File directories\n",
    "hard_drive_dir = '/Volumes/diskAshur2/Final transfer out data and code to WWC Jan 2020/Data for model/Use'\n"
   ]
  },
  {
   "cell_type": "code",
   "execution_count": null,
   "metadata": {},
   "outputs": [],
   "source": [
    "# Set working directory\n",
    "import os\n",
    "import pickle\n",
    "os.chdir(hard_drive_dir)\n",
    "os.getcwd()"
   ]
  },
  {
   "cell_type": "code",
   "execution_count": null,
   "metadata": {},
   "outputs": [],
   "source": [
    "# Import structured data -train, test data\n",
    "import pandas as pd\n",
    "X_tr = pd.read_csv(\"X_train_{}.csv\".format(file_stub), index_col = 0)\n",
    "print(X_tr.shape)\n",
    "X_tr.reset_index(inplace = True, drop = True)\n",
    "print(X_tr.index)\n",
    "\n",
    "X_test = pd.read_csv(\"X_test_{}.csv\".format(file_stub), index_col = 0)\n",
    "print(X_test.shape)\n",
    "X_test.reset_index(inplace = True, drop = True)\n",
    "print(X_test.index)\n",
    "\n",
    "\n",
    "import pandas as pd\n",
    "y_tr = pd.read_csv(\"y_train_{}.csv\".format(file_stub_y_siblings), index_col = 0, header = None)\n",
    "print(y_tr.shape)\n",
    "y_tr.reset_index(inplace = True, drop = True)\n",
    "print(y_tr.index)\n",
    "\n",
    "y_test = pd.read_csv(\"y_test_{}.csv\".format(file_stub_y_siblings), index_col = 0, header = None)\n",
    "print(y_test.shape)\n",
    "y_test.reset_index(inplace = True, drop = True)\n",
    "print(y_test.index)\n",
    "\n",
    "assert X_tr.shape[0] == y_tr.shape[0]\n",
    "assert X_test.shape[0] == y_test.shape[0]"
   ]
  },
  {
   "cell_type": "code",
   "execution_count": null,
   "metadata": {},
   "outputs": [],
   "source": [
    "print(X_tr.shape)\n",
    "print(y_tr.shape)"
   ]
  },
  {
   "cell_type": "code",
   "execution_count": null,
   "metadata": {},
   "outputs": [],
   "source": [
    "print(set(X_test.columns).difference(set(X_tr.columns)))\n",
    "print(set(X_tr.columns).difference(set(X_test.columns)))"
   ]
  },
  {
   "cell_type": "code",
   "execution_count": null,
   "metadata": {},
   "outputs": [],
   "source": [
    "# Sensitive data has the key columns\n",
    "# And sensitive columns\n",
    "X_tr_sensitive = X_tr[['PSID', 'ReferralDatetime', 'Gender',\n",
    "       'AgeAtReferralDate', 'hasdisability', 'ethnicity_highlevel']]\n",
    "print(X_tr_sensitive.columns)"
   ]
  },
  {
   "cell_type": "code",
   "execution_count": null,
   "metadata": {},
   "outputs": [],
   "source": [
    "X_test_sensitive = X_test[['PSID', 'ReferralDatetime', 'Gender',\n",
    "       'AgeAtReferralDate', 'hasdisability', 'ethnicity_highlevel']]\n",
    "print(X_test_sensitive.columns)"
   ]
  },
  {
   "cell_type": "code",
   "execution_count": null,
   "metadata": {},
   "outputs": [],
   "source": [
    "print(X_tr.select_dtypes(exclude = 'number').columns)\n",
    "X_tr.drop(columns = ['detailed_ethnicity', 'ethnicity_highlevel'], inplace = True, errors = 'ignore')\n",
    "print(X_tr.select_dtypes(exclude = 'number').columns)\n",
    "\n",
    "\n",
    "print(X_test.select_dtypes(exclude = 'number').columns)\n",
    "X_test.drop(columns = ['detailed_ethnicity', 'ethnicity_highlevel'], inplace = True, errors = 'ignore')\n",
    "print(X_test.select_dtypes(exclude = 'number').columns)"
   ]
  },
  {
   "cell_type": "code",
   "execution_count": null,
   "metadata": {},
   "outputs": [],
   "source": [
    "print(X_tr.shape)\n",
    "X_tr_gender = pd.get_dummies(X_tr['Gender'], prefix = 'Gender', dummy_na = False)\n",
    "X_tr = pd.concat([X_tr, X_tr_gender], axis = 1)\n",
    "X_tr.drop(columns = 'Gender', inplace = True)\n",
    "print(X_tr.shape)\n",
    "\n",
    "print(X_tr['hasdisability'].value_counts())\n",
    "X_tr['hasdisability'].replace({True: 1, False: 0}, inplace = True)\n",
    "print(X_tr['hasdisability'].value_counts())\n",
    "\n",
    "print(X_tr['ReReferral'].value_counts())\n",
    "X_tr['ReReferral'].replace({\"Yes\": 1, \"No\": 0}, inplace = True)\n",
    "print(X_tr['ReReferral'].value_counts())"
   ]
  },
  {
   "cell_type": "code",
   "execution_count": null,
   "metadata": {},
   "outputs": [],
   "source": [
    "print(X_test.shape)\n",
    "X_test_gender = pd.get_dummies(X_test['Gender'], prefix = 'Gender', dummy_na = False)\n",
    "X_test = pd.concat([X_test, X_test_gender], axis = 1)\n",
    "X_test.drop(columns = 'Gender', inplace = True)\n",
    "print(X_test.shape)\n",
    "\n",
    "print(X_test['hasdisability'].value_counts())\n",
    "X_test['hasdisability'].replace({True: 1, False: 0}, inplace = True)\n",
    "print(X_test['hasdisability'].value_counts())\n",
    "\n",
    "print(X_test['ReReferral'].value_counts())\n",
    "X_test['ReReferral'].replace({\"Yes\": 1, \"No\": 0}, inplace = True)\n",
    "print(X_test['ReReferral'].value_counts())"
   ]
  },
  {
   "cell_type": "code",
   "execution_count": null,
   "metadata": {},
   "outputs": [],
   "source": [
    "print(X_tr.select_dtypes(exclude = 'number').columns)\n",
    "print(X_test.select_dtypes(exclude = 'number').columns)"
   ]
  },
  {
   "cell_type": "code",
   "execution_count": null,
   "metadata": {},
   "outputs": [],
   "source": [
    "X_tr_sensitive.head()"
   ]
  },
  {
   "cell_type": "code",
   "execution_count": null,
   "metadata": {},
   "outputs": [],
   "source": [
    "X_test_sensitive.head()"
   ]
  },
  {
   "cell_type": "code",
   "execution_count": null,
   "metadata": {},
   "outputs": [],
   "source": [
    "assert 1==2"
   ]
  },
  {
   "cell_type": "code",
   "execution_count": null,
   "metadata": {},
   "outputs": [],
   "source": [
    "X_tr_sensitive.to_csv(\"X_train_sensitive_{}.csv\".format(file_stub))\n",
    "X_test_sensitive.to_csv(\"X_test_sensitive_{}.csv\".format(file_stub))"
   ]
  },
  {
   "cell_type": "code",
   "execution_count": null,
   "metadata": {},
   "outputs": [],
   "source": [
    "X_tr.to_csv(\"X_train_{}.csv\".format(file_stub))\n",
    "X_test.to_csv(\"X_test_{}.csv\".format(file_stub))"
   ]
  },
  {
   "cell_type": "code",
   "execution_count": null,
   "metadata": {},
   "outputs": [],
   "source": [
    "assert (set(X_test.columns).difference(set(X_tr.columns)) == {})\n",
    "assert (set(X_tr.columns).difference(set(X_test.columns)) == {})"
   ]
  },
  {
   "cell_type": "code",
   "execution_count": null,
   "metadata": {},
   "outputs": [],
   "source": [
    "print(set(X_test.columns).difference(set(X_tr.columns)))\n",
    "print(set(X_tr.columns).difference(set(X_test.columns)))"
   ]
  },
  {
   "cell_type": "code",
   "execution_count": null,
   "metadata": {},
   "outputs": [],
   "source": [
    "X_tr.to_csv(\"X_train_{}.csv\".format(file_stub))"
   ]
  },
  {
   "cell_type": "code",
   "execution_count": null,
   "metadata": {},
   "outputs": [],
   "source": []
  }
 ],
 "metadata": {
  "kernelspec": {
   "display_name": "Python 3",
   "language": "python",
   "name": "python3"
  },
  "language_info": {
   "codemirror_mode": {
    "name": "ipython",
    "version": 3
   },
   "file_extension": ".py",
   "mimetype": "text/x-python",
   "name": "python",
   "nbconvert_exporter": "python",
   "pygments_lexer": "ipython3",
   "version": "3.7.4"
  }
 },
 "nbformat": 4,
 "nbformat_minor": 2
}
