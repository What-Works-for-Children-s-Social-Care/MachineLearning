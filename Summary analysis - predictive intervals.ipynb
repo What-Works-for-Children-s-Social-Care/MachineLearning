{
 "cells": [
  {
   "cell_type": "markdown",
   "metadata": {},
   "source": [
    "Aggregates prediction intervals"
   ]
  },
  {
   "cell_type": "code",
   "execution_count": null,
   "metadata": {},
   "outputs": [],
   "source": [
    "import os\n",
    "\n",
    "print(os.getcwd())"
   ]
  },
  {
   "cell_type": "code",
   "execution_count": null,
   "metadata": {},
   "outputs": [],
   "source": [
    "# Pull in list of model performance metrics\n",
    "import glob\n",
    "import pandas as pd\n",
    "file_list = glob.glob(\"*/*.csv\")\n",
    "file_list_excel = glob.glob(\"*/*.xlsx\")\n",
    "file_list = [f for f in file_list if 'Prediction intervals' in f]\n",
    "file_list = [f for f in file_list if 'Output' not in f]\n",
    "file_list_excel = [f for f in file_list_excel if 'Prediction intervals' in f]\n",
    "file_list = file_list + file_list_excel\n",
    "file_list_thresholds = [f for f in file_list if 'all ' in f]\n",
    "file_list_ave = list(set(file_list).difference(set(file_list_thresholds)))"
   ]
  },
  {
   "cell_type": "code",
   "execution_count": null,
   "metadata": {},
   "outputs": [],
   "source": [
    "file_dict = {}\n",
    "for file_name in file_list_thresholds:\n",
    "    file = pd.read_csv(file_name) \n",
    "    file_name = file_name.replace(\".csv\", \"\")\n",
    "    # All files    \n",
    "    file_name = file_name.replace(\"Prediction intervals - all \", \"\")\n",
    "    LA, model_id = file_name.split('/')\n",
    "    file['LA'] = LA\n",
    "    file['model_id'] = model_id\n",
    "    file_dict[file_name] = file\n",
    "\n",
    "print(file_dict.keys())\n",
    "\n",
    "results = pd.concat(file_dict.values(), axis = 0, ignore_index = True)"
   ]
  },
  {
   "cell_type": "code",
   "execution_count": null,
   "metadata": {},
   "outputs": [],
   "source": [
    "file_dict = {}\n",
    "for file_name in file_list_ave:\n",
    "    file = pd.read_csv(file_name, index_col = 0) \n",
    "    file_name = file_name.replace(\".csv\", \"\")\n",
    "    # All files    \n",
    "    file_name = file_name.replace(\"Prediction intervals - max, ave\", \"\")\n",
    "    file_name = file_name.replace(\"Prediction intervals max ave \", \"\")\n",
    "    LA, model_id = file_name.split('/')\n",
    "    file['LA'] = LA\n",
    "    file['model_id'] = model_id\n",
    "    file_dict[file_name] = file\n",
    "\n",
    "print(file_dict.keys())\n",
    "\n",
    "results_ave = pd.concat(file_dict.values(), axis = 0, ignore_index = True)"
   ]
  },
  {
   "cell_type": "code",
   "execution_count": null,
   "metadata": {},
   "outputs": [],
   "source": [
    "summary_prediction_interval = pd.DataFrame(results_ave[['Average width of prediction interval', 'Width of prediction interval at threshold value']].mean())\n",
    "summary_prediction_interval = summary_prediction_interval.round(4)\n",
    "summary_prediction_interval.columns = ['Mean']\n",
    "summary_prediction_interval.to_csv('Output/Summary prediction intervals.csv')\n",
    "summary_prediction_interval\n",
    "\n"
   ]
  },
  {
   "cell_type": "code",
   "execution_count": null,
   "metadata": {},
   "outputs": [],
   "source": [
    "# Drop the concatenated summary data for each model\n",
    "print(results.shape)\n",
    "results_for_grouping = results.loc[(results['Threshold'] != 'Width of prediction interval at threshold value') &\n",
    "                     (results['Threshold'] != 'Average width of prediction interval'),]\n",
    "\n",
    "print(results_for_grouping.shape)\n",
    "\n",
    "print(results_for_grouping['Threshold'].unique())\n",
    "results_for_grouping['Threshold'] = pd.to_numeric(results_for_grouping['Threshold'])\n",
    "print(results_for_grouping['Threshold'].unique())"
   ]
  },
  {
   "cell_type": "code",
   "execution_count": null,
   "metadata": {},
   "outputs": [],
   "source": [
    "# Find the average for each threshold\n",
    "prediction_interval_by_threshold = results_for_grouping.groupby('Threshold')[['Precision', 'Recall', 'F score (beta = 0.1)', 'Prediction interval (threshold +/- 0.03)']].mean().reset_index()\n",
    "prediction_interval_by_threshold[['Precision', 'Recall', 'F score (beta = 0.1)',\n",
    "       'Prediction interval (threshold +/- 0.03)']] = prediction_interval_by_threshold[['Precision', 'Recall', 'F score (beta = 0.1)',\n",
    "       'Prediction interval (threshold +/- 0.03)']].round(4)\n",
    "prediction_interval_by_threshold.to_csv('Output/Prediction intervals by thresholds.csv')\n",
    "prediction_interval_by_threshold\n"
   ]
  },
  {
   "cell_type": "code",
   "execution_count": null,
   "metadata": {},
   "outputs": [],
   "source": [
    "# Split up the model id so can do analysis by cv and data type\n",
    "model_ids = results_for_grouping['model_id'].str.split('_', expand = True)\n",
    "_, results_for_grouping['Cross Validation'], results_for_grouping['Data Included'] = model_ids[0], model_ids[1], model_ids[2]"
   ]
  },
  {
   "cell_type": "code",
   "execution_count": null,
   "metadata": {},
   "outputs": [],
   "source": [
    "# Comparing thresholds by cv\n",
    "from scipy.stats import mannwhitneyu\n",
    "prediction_interval_ss = results_for_grouping.loc[results_for_grouping['Cross Validation'] == 'ss','Prediction interval (threshold +/- 0.03)']\n",
    "prediction_interval_ts = results_for_grouping.loc[results_for_grouping['Cross Validation'] == 'ts','Prediction interval (threshold +/- 0.03)']\n",
    "\n",
    "print(mannwhitneyu(prediction_interval_ss, prediction_interval_ts, alternative='two-sided'))\n",
    "\n",
    "\n",
    "prediction_intervals_by_cv = pd.pivot_table(results_for_grouping, index = ['Threshold'], columns = 'Cross Validation', values = 'Prediction interval (threshold +/- 0.03)')\n",
    "\n",
    "prediction_intervals_by_cv[['ss', 'ts']] = prediction_intervals_by_cv[['ss', 'ts']].round(4)\n",
    "prediction_intervals_by_cv.rename(columns = {'ss': 'Learning from all cases', 'ts': 'Learning only from earlier cases'}, inplace = True)\n",
    "prediction_intervals_by_cv.to_csv('Output/Prediction intervals by cross validation.csv')\n",
    "prediction_intervals_by_cv\n"
   ]
  },
  {
   "cell_type": "code",
   "execution_count": null,
   "metadata": {},
   "outputs": [],
   "source": [
    "# Comparing thresholds by data included\n",
    "prediction_interval_str = results_for_grouping.loc[results_for_grouping['Data Included'] == 'str','Prediction interval (threshold +/- 0.03)']\n",
    "prediction_interval_all = results_for_grouping.loc[results_for_grouping['Data Included'] == 'all','Prediction interval (threshold +/- 0.03)']\n",
    "\n",
    "print(mannwhitneyu(prediction_interval_str, prediction_interval_all, alternative='two-sided'))\n",
    "\n",
    "prediction_intervals_by_data_type = pd.pivot_table(results_for_grouping, index = ['Threshold'], columns = 'Data Included', values = 'Prediction interval (threshold +/- 0.03)')\n",
    "\n",
    "prediction_intervals_by_data_type[['str', 'all']] = prediction_intervals_by_data_type[['str', 'all']].round(4)\n",
    "prediction_intervals_by_data_type.rename(columns = {'str': 'Just structured data', 'all': 'Structured and text data'}, inplace = True)\n",
    "prediction_intervals_by_data_type.to_csv('Output/Prediction intervals by data type.csv')\n",
    "prediction_intervals_by_data_type"
   ]
  },
  {
   "cell_type": "code",
   "execution_count": null,
   "metadata": {},
   "outputs": [],
   "source": [
    "## Any correlation between threshold value and threshold width\n",
    "\n",
    "from scipy.stats import pearsonr\n",
    "\n",
    "results_for_pearsonr = results_for_grouping.dropna()\n",
    "pearsonr(results_for_pearsonr['Threshold'], results_for_pearsonr['Prediction interval (threshold +/- 0.03)'])"
   ]
  },
  {
   "cell_type": "code",
   "execution_count": null,
   "metadata": {},
   "outputs": [],
   "source": []
  }
 ],
 "metadata": {
  "kernelspec": {
   "display_name": "Python 3",
   "language": "python",
   "name": "python3"
  },
  "language_info": {
   "codemirror_mode": {
    "name": "ipython",
    "version": 3
   },
   "file_extension": ".py",
   "mimetype": "text/x-python",
   "name": "python",
   "nbconvert_exporter": "python",
   "pygments_lexer": "ipython3",
   "version": "3.7.4"
  }
 },
 "nbformat": 4,
 "nbformat_minor": 2
}
