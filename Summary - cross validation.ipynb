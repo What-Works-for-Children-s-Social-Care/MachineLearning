{
 "cells": [
  {
   "cell_type": "code",
   "execution_count": null,
   "metadata": {},
   "outputs": [],
   "source": [
    "import os\n",
    "\n",
    "print(os.getcwd())"
   ]
  },
  {
   "cell_type": "code",
   "execution_count": null,
   "metadata": {},
   "outputs": [],
   "source": [
    "import glob\n",
    "import pandas as pd\n",
    "file_list = glob.glob(\"*/*.csv\")\n",
    "file_list_summary_tests = [f for f in file_list if \"T-test and F-test for similarity of cv folds \" in f]\n",
    "file_list_summary_tests"
   ]
  },
  {
   "cell_type": "code",
   "execution_count": null,
   "metadata": {},
   "outputs": [],
   "source": [
    "# Read in matching files\n",
    "file_dict = {}\n",
    "for file_name in file_list_summary_tests:\n",
    "    file = pd.read_csv(file_name, index_col = 0) \n",
    "    file_name = file_name.replace(\".csv\", \"\")\n",
    "    # All files    \n",
    "    file_name = file_name.replace(\"T-test and F-test for similarity of cv folds \", \"\")\n",
    "    LA, model_id = file_name.split('/')  \n",
    "    file['LA'] = LA\n",
    "    file['model_id'] = model_id\n",
    "    file_dict[file_name] = file\n",
    "\n",
    "print(file_dict.keys())\n",
    "\n",
    "results = pd.concat(file_dict.values(), axis = 0, ignore_index = True)\n",
    "model_id = results['model_id'].str.split('_', expand = True)\n",
    "results['rq'], results['cv'], results['data_type'] = model_id[0], model_id[1], model_id[2]"
   ]
  },
  {
   "cell_type": "code",
   "execution_count": null,
   "metadata": {},
   "outputs": [],
   "source": [
    "# Take the column average of the splits\n",
    "f_test_cols = [col for col in results.columns if 'F-test' in col]\n",
    "results['Average p-value from F-tests'] = results[f_test_cols].mean(skipna = True, axis = 1)\n",
    "t_test_cols = [col for col in results.columns if 'T-test' in col]\n",
    "results['Average p-value from T-tests'] = results[t_test_cols].mean(skipna = True, axis = 1)\n",
    "\n",
    "# Aggregate by cv\n",
    "f_test_cv = results.groupby('cv')['Average p-value from F-tests'].mean()\n",
    "t_test_cv = results.groupby('cv')['Average p-value from T-tests'].mean()\n",
    "tests_cv = pd.concat([f_test_cv, t_test_cv], axis = 1)\n",
    "\n",
    "# Aggregate by data_type\n",
    "f_test_data_type = results.groupby('data_type')['Average p-value from F-tests'].mean()\n",
    "t_test_data_type = results.groupby('data_type')['Average p-value from T-tests'].mean()\n",
    "tests_data_type = pd.concat([f_test_data_type, t_test_data_type], axis = 1)\n"
   ]
  },
  {
   "cell_type": "code",
   "execution_count": null,
   "metadata": {},
   "outputs": [],
   "source": [
    "f_test_cv_data_type = results.groupby(['cv','data_type'])['Average p-value from F-tests'].mean()\n",
    "t_test_cv_data_type = results.groupby(['cv','data_type'])['Average p-value from T-tests'].mean()\n",
    "tests_cv_data_type = pd.concat([f_test_cv_data_type, t_test_cv_data_type], axis = 1)"
   ]
  },
  {
   "cell_type": "code",
   "execution_count": null,
   "metadata": {},
   "outputs": [],
   "source": [
    "tests_cv.reset_index(drop = False, inplace = True)\n",
    "tests_cv['cv'].replace({'ss': 'Learning from all cases', 'ts': 'Learning only from earlier cases'}, inplace = True)\n",
    "tests_cv.to_csv('Output/Average p-values for difference between train and test data - cross validation.csv')\n",
    "tests_cv"
   ]
  },
  {
   "cell_type": "code",
   "execution_count": null,
   "metadata": {},
   "outputs": [],
   "source": [
    "tests_data_type.reset_index(drop = False, inplace = True)\n",
    "tests_data_type['data_type'].replace({'all': 'Structured and text data', 'str': 'Structured data only'}, inplace = True)\n",
    "tests_data_type.to_csv('Output/Average p-values for difference between train and test data - data type.csv')\n",
    "tests_data_type"
   ]
  },
  {
   "cell_type": "code",
   "execution_count": null,
   "metadata": {},
   "outputs": [],
   "source": []
  }
 ],
 "metadata": {
  "kernelspec": {
   "display_name": "Python 3",
   "language": "python",
   "name": "python3"
  },
  "language_info": {
   "codemirror_mode": {
    "name": "ipython",
    "version": 3
   },
   "file_extension": ".py",
   "mimetype": "text/x-python",
   "name": "python",
   "nbconvert_exporter": "python",
   "pygments_lexer": "ipython3",
   "version": "3.7.4"
  }
 },
 "nbformat": 4,
 "nbformat_minor": 2
}
